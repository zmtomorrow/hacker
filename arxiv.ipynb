{
 "cells": [
  {
   "cell_type": "code",
   "execution_count": 2,
   "metadata": {},
   "outputs": [
    {
     "name": "stdout",
     "output_type": "stream",
     "text": [
      "fetching up to  1000 records...\n",
      "fetching up to  2000 records...\n",
      "fetching is completed in 17.6 seconds.\n",
      "Total number of records 597\n"
     ]
    }
   ],
   "source": [
    "import arxivscraper\n",
    "scraper = arxivscraper.Scraper(category='cs', date_from='2023-03-07',date_until='2023-03-08', filters={'categories':['cs.lg']})\n",
    "output = scraper.scrape()\n"
   ]
  },
  {
   "cell_type": "code",
   "execution_count": 6,
   "metadata": {},
   "outputs": [
    {
     "name": "stdout",
     "output_type": "stream",
     "text": [
      "            id                                              title  \\\n",
      "0   2303.04001        elodin: naming concepts in embedding spaces   \n",
      "1   2303.04012         exploration via epistemic value estimation   \n",
      "2   2303.04016  decoupling skill learning from robotic control...   \n",
      "3   2303.04020  when is importance weighting correction needed...   \n",
      "4   2303.04030  pyxab -- a python library for $\\mathcal{x}$-ar...   \n",
      "5   2303.04038  root cause identification for collective anoma...   \n",
      "6   2303.04040  uncertainty quantification of spatiotemporal t...   \n",
      "7   2303.04091  visual abstraction and reasoning through language   \n",
      "8   2303.04096  mastering strategy card game (legends of code ...   \n",
      "9   2303.04104  an inception-residual-based architecture with ...   \n",
      "10  2303.04105  introspective cross-attention probing for ligh...   \n",
      "11  2303.04115  predicted embedding power regression for large...   \n",
      "12  2303.04117  validation of a hospital digital twin with mac...   \n",
      "13  2303.04118  a multiplicative value function for safe and e...   \n",
      "14  2303.04124  wigner kernels: body-ordered equivariant machi...   \n",
      "15  2303.04129  foundation models for decision making: problem...   \n",
      "16  2303.04132  exploiting asymmetry for synthetic training da...   \n",
      "17  2303.04136  domain randomization for robust, affordable an...   \n",
      "18  2303.04142  from copilot to pilot: towards ai supported so...   \n",
      "19  2303.04143  can we scale transformers to predict parameter...   \n",
      "20  2303.04145     benign overfitting for two-layer relu networks   \n",
      "\n",
      "                                             abstract  \n",
      "0   despite recent advancements, the field of text...  \n",
      "1   how to efficiently explore in reinforcement le...  \n",
      "2   recent works in robotic manipulation through r...  \n",
      "3   this paper investigates when the importance we...  \n",
      "4   we introduce a python open-source library for ...  \n",
      "5   this paper presents an approach for identifyin...  \n",
      "6   recent studies have significantly improved the...  \n",
      "7   while artificial intelligence (ai) models have...  \n",
      "8   deep reinforcement learning combined with fict...  \n",
      "9   this paper presents a deep learning system app...  \n",
      "10  we propose inca, a lightweight method for tran...  \n",
      "11  out-of-distribution (ood) inputs can compromis...  \n",
      "12  recently there has been a surge of interest in...  \n",
      "13  an emerging field of sequential decision probl...  \n",
      "14  machine-learning models based on a point-cloud...  \n",
      "15  foundation models pretrained on diverse data a...  \n",
      "16  large language models (llms) show great potent...  \n",
      "17  soft robots are becoming extremely popular tha...  \n",
      "18  ai-supported programming has arrived, as shown...  \n",
      "19  pretraining a neural network on a large datase...  \n",
      "20  modern deep learning models with great express...  \n"
     ]
    }
   ],
   "source": [
    "today_list=[]\n",
    "for i in output:\n",
    "    if i['id'][0:7]=='2303.04':\n",
    "        today_list.append(i)\n",
    "\n",
    "import pandas as pd\n",
    "cols = ['id', 'title',  'abstract']\n",
    "df = pd.DataFrame(list(today_list),columns=cols)\n",
    "\n",
    "print(df)"
   ]
  }
 ],
 "metadata": {
  "kernelspec": {
   "display_name": "pytorch",
   "language": "python",
   "name": "python3"
  },
  "language_info": {
   "codemirror_mode": {
    "name": "ipython",
    "version": 3
   },
   "file_extension": ".py",
   "mimetype": "text/x-python",
   "name": "python",
   "nbconvert_exporter": "python",
   "pygments_lexer": "ipython3",
   "version": "3.8.13"
  },
  "orig_nbformat": 4
 },
 "nbformat": 4,
 "nbformat_minor": 2
}
