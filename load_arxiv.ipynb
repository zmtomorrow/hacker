{
 "cells": [
  {
   "cell_type": "code",
   "execution_count": 2,
   "metadata": {},
   "outputs": [
    {
     "name": "stdout",
     "output_type": "stream",
     "text": [
      "           id                                              title  \\\n",
      "0   1212.1108  on the convergence properties of optimal adaboost   \n",
      "1  1506.06646  nonparametric bayesian double articulation ana...   \n",
      "2  1602.05629  communication-efficient learning of deep netwo...   \n",
      "3  1701.08435     transformation-based models of video sequences   \n",
      "4  1706.00342  on the stable recovery of deep structured line...   \n",
      "5  1706.01331  event representations for automated story gene...   \n",
      "6  1706.03741  deep reinforcement learning from human prefere...   \n",
      "7  1708.05917  accelerating kernel classifiers through border...   \n",
      "8  1711.04162  a sparse graph-structured lasso mixed model fo...   \n",
      "9  1802.04403  tvae: triplet-based variational autoencoder us...   \n",
      "\n",
      "                                            abstract  \n",
      "0  adaboost is one of the most popular ml algorit...  \n",
      "1  human infants can discover words directly from...  \n",
      "2  modern mobile devices have access to a wealth ...  \n",
      "3  in this work we propose a simple unsupervised ...  \n",
      "4  we consider a deep structured linear network u...  \n",
      "5  automated story generation is the problem of a...  \n",
      "6  for sophisticated reinforcement learning (rl) ...  \n",
      "7  support vector machines (svm) and other kernel...  \n",
      "8  while linear mixed model (lmm) has shown a com...  \n",
      "9  deep metric learning has been demonstrated to ...  \n"
     ]
    }
   ],
   "source": [
    "import pickle\n",
    "import pandas as pd\n",
    "\n",
    "\n",
    "with open(\"arxiv_data\", \"rb\") as fp:\n",
    "    data = pickle.load(fp)\n",
    "\n",
    "cols = ['id', 'title',  'abstract']\n",
    "df = pd.DataFrame(list(data[0:10]),columns=cols)\n",
    "\n",
    "print(df)\n"
   ]
  }
 ],
 "metadata": {
  "kernelspec": {
   "display_name": "pytorch",
   "language": "python",
   "name": "python3"
  },
  "language_info": {
   "codemirror_mode": {
    "name": "ipython",
    "version": 3
   },
   "file_extension": ".py",
   "mimetype": "text/x-python",
   "name": "python",
   "nbconvert_exporter": "python",
   "pygments_lexer": "ipython3",
   "version": "3.8.13"
  },
  "orig_nbformat": 4
 },
 "nbformat": 4,
 "nbformat_minor": 2
}
